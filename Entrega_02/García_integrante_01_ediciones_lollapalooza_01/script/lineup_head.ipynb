{
 "cells": [
  {
   "cell_type": "code",
   "execution_count": null,
   "id": "cbba1ba6",
   "metadata": {},
   "outputs": [],
   "source": [
    "# Paso 1: Subir el archivo desde tu computadora\n",
    "from google.colab import files\n",
    "uploaded = files.upload()"
   ]
  },
  {
   "cell_type": "code",
   "execution_count": null,
   "id": "15e8b310",
   "metadata": {},
   "outputs": [],
   "source": [
    "# Paso 2: Importar pandas\n",
    "import pandas as pd"
   ]
  },
  {
   "cell_type": "code",
   "execution_count": null,
   "id": "5e543469",
   "metadata": {},
   "outputs": [],
   "source": [
    "# Paso 3: Cargar el archivo .csv en un DataFrame\n",
    "df = pd.read_csv(\"Tabla Matias Venegas _ Lineup - Hoja 1.csv\")\n",
    "\n",
    "# Paso 4: Mostrar las primeras filas de la base de datos\n",
    "df.head()"
   ]
  }
 ],
 "metadata": {
  "language": "python"
 },
 "nbformat": 4,
 "nbformat_minor": 5
}

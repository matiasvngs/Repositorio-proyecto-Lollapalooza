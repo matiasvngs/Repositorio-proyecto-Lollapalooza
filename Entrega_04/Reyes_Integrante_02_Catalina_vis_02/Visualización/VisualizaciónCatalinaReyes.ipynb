{
  "nbformat": 4,
  "nbformat_minor": 0,
  "metadata": {
    "colab": {
      "provenance": []
    },
    "kernelspec": {
      "name": "python3",
      "display_name": "Python 3"
    },
    "language_info": {
      "name": "python"
    }
  },
  "cells": [
    {
      "cell_type": "code",
      "source": [
        "import altair as alt\n",
        "import pandas as pd\n",
        "\n",
        "# Cargar la base de datos desde el archivo CSV\n",
        "df = pd.read_csv('/content/drive/MyDrive/Narración Grafica/Artistas Lollapalooza Chile - Hoja 1 (1).csv')\n",
        "\n",
        "# Agrupar por género musical y género\n",
        "df_grouped = df.groupby(['Género musical', 'Género']).size().reset_index(name='Cantidad')\n",
        "\n",
        "# Calcular el total por género musical\n",
        "total_per_genre = df_grouped.groupby('Género musical')['Cantidad'].sum().reset_index()\n",
        "\n",
        "# Ordenar por cantidad de artistas de mayor a menor\n",
        "total_per_genre = total_per_genre.sort_values(by='Cantidad', ascending=False)\n",
        "\n",
        "# Crear un nuevo DataFrame para mantener el orden\n",
        "df_grouped['Género musical'] = pd.Categorical(df_grouped['Género musical'],\n",
        "                                              categories=total_per_genre['Género musical'],\n",
        "                                              ordered=True)\n",
        "\n",
        "# Crear el gráfico de torta para cada género musical\n",
        "chart = alt.Chart(df_grouped).mark_arc().encode(\n",
        "    theta='Cantidad:Q',\n",
        "    color=alt.Color('Género:N',\n",
        "                    scale=alt.Scale(domain=['M', 'F', 'Mixto', 'NB'],\n",
        "                                    range=['#00BFFF', '#FF69B4', '#DDA0DD', '#FFFACD'])),  # Colores ajustados\n",
        "    tooltip=['Género:N', 'Cantidad:Q']\n",
        ").properties(\n",
        "    width=200,\n",
        "    height=200\n",
        ").facet(\n",
        "    column='Género musical:N',  # Facet por género musical\n",
        "    columns=2  # Dos gráficos por fila\n",
        ").properties(\n",
        "    title='Distribución de Artistas por Género Musical y Género'\n",
        ").resolve_scale(\n",
        "    color='independent'  # Para que cada gráfico use su escala de color\n",
        ")\n",
        "\n",
        "chart"
      ],
      "metadata": {
        "id": "oLvWVC8LDBRa"
      },
      "execution_count": null,
      "outputs": []
    }
  ]
}
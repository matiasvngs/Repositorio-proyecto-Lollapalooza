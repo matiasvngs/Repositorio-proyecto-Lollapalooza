{
  "metadata": {
    "kernelspec": {
      "name": "python",
      "display_name": "Python (Pyodide)",
      "language": "python"
    },
    "language_info": {
      "codemirror_mode": {
        "name": "python",
        "version": 3
      },
      "file_extension": ".py",
      "mimetype": "text/x-python",
      "name": "python",
      "nbconvert_exporter": "python",
      "pygments_lexer": "ipython3",
      "version": "3.8"
    }
  },
  "nbformat_minor": 5,
  "nbformat": 4,
  "cells": [
    {
      "id": "03cdbc3d-00d1-4c40-b0a7-15a786fd48b4",
      "cell_type": "code",
      "source": "\n# Importar bibliotecas necesarias\nimport pandas as pd\nimport altair as alt\nfrom google.colab import files\n\n# Cargar el archivo CSV\nuploaded = files.upload()\n\n# Obtener el nombre del archivo cargado\nfilename = list(uploaded.keys())[0]\n\n# Leer el archivo CSV\ndata = pd.read_csv(filename)\n\n# Mostrar las primeras filas del DataFrame\ndata.head()\n\n# Preprocesar los datos para convertir la duración en minutos\ndata['minutos'] = data['tiempo / escenario'].str.extract('(\\d+)').astype(int)\n\n# Filtrar las columnas relevantes\ndata = data[['Año', 'Género', 'minutos']]\n\n# Verificar valores nulos\nprint(data.isnull().sum())\n\n# Crear un gráfico de barras\nchart = alt.Chart(data).mark_bar(\n    cornerRadiusTopLeft=3,\n    cornerRadiusTopRight=3\n).encode(\n    x='Año:N',             # Eje horizontal: Año\n    y='sum(minutos):Q',    # Eje vertical: Suma de minutos\n    color='Género:N'       # Colores por género\n).properties(\n    title='Cantidad de Minutos por Año y Género',\n    width=600,\n    height=400\n)\n\n# Mostrar el gráfico\nchart\n\n",
      "metadata": {
        "trusted": true
      },
      "outputs": [
        {
          "name": "stderr",
          "output_type": "stream",
          "text": "<unknown>:19: SyntaxWarning: invalid escape sequence '\\d'\n<>:19: SyntaxWarning: invalid escape sequence '\\d'\n<>:19: SyntaxWarning: invalid escape sequence '\\d'\n<ipython-input-5-e91e884043c1>:19: SyntaxWarning: invalid escape sequence '\\d'\n  data['minutos'] = data['tiempo / escenario'].str.extract('(\\d+)').astype(int)\n<ipython-input-5-e91e884043c1>:19: SyntaxWarning: invalid escape sequence '\\d'\n  data['minutos'] = data['tiempo / escenario'].str.extract('(\\d+)').astype(int)\n"
        },
        {
          "ename": "<class 'ModuleNotFoundError'>",
          "evalue": "No module named 'google.colab'",
          "traceback": [
            "\u001b[0;31m---------------------------------------------------------------------------\u001b[0m",
            "\u001b[0;31mModuleNotFoundError\u001b[0m                       Traceback (most recent call last)",
            "Cell \u001b[0;32mIn[5], line 4\u001b[0m\n\u001b[1;32m      2\u001b[0m \u001b[38;5;28;01mimport\u001b[39;00m \u001b[38;5;21;01mpandas\u001b[39;00m \u001b[38;5;28;01mas\u001b[39;00m \u001b[38;5;21;01mpd\u001b[39;00m\n\u001b[1;32m      3\u001b[0m \u001b[38;5;28;01mimport\u001b[39;00m \u001b[38;5;21;01maltair\u001b[39;00m \u001b[38;5;28;01mas\u001b[39;00m \u001b[38;5;21;01malt\u001b[39;00m\n\u001b[0;32m----> 4\u001b[0m \u001b[38;5;28;01mfrom\u001b[39;00m \u001b[38;5;21;01mgoogle\u001b[39;00m\u001b[38;5;21;01m.\u001b[39;00m\u001b[38;5;21;01mcolab\u001b[39;00m \u001b[38;5;28;01mimport\u001b[39;00m files\n\u001b[1;32m      6\u001b[0m \u001b[38;5;66;03m# Cargar el archivo CSV\u001b[39;00m\n\u001b[1;32m      7\u001b[0m uploaded \u001b[38;5;241m=\u001b[39m files\u001b[38;5;241m.\u001b[39mupload()\n",
            "\u001b[0;31mModuleNotFoundError\u001b[0m: No module named 'google.colab'"
          ],
          "output_type": "error"
        }
      ],
      "execution_count": 5
    },
    {
      "id": "fe6c6538-31cc-4a9f-9caa-4e07c1cb78ba",
      "cell_type": "markdown",
      "source": "\n# Importar bibliotecas necesarias\nimport pandas as pd\nimport altair as alt\nfrom google.colab import files\n\n# Cargar el archivo CSV\nuploaded = files.upload()\n\n# Obtener el nombre del archivo cargado\nfilename = list(uploaded.keys())[0]\n\n# Leer el archivo CSV\ndata = pd.read_csv(filename)\n\n# Mostrar las primeras filas del DataFrame\ndata.head()\n\n# Preprocesar los datos para convertir la duración en minutos\ndata['minutos'] = data['tiempo / escenario'].str.extract('(\\d+)').astype(int)\n\n# Filtrar las columnas relevantes\ndata = data[['Año', 'Género', 'minutos']]\n\n# Verificar valores nulos\nprint(data.isnull().sum())\n\n# Crear un gráfico de barras\nchart = alt.Chart(data).mark_bar(\n    cornerRadiusTopLeft=3,\n    cornerRadiusTopRight=3\n).encode(\n    x='Año:N',             # Eje horizontal: Año\n    y='sum(minutos):Q',    # Eje vertical: Suma de minutos\n    color='Género:N'       # Colores por género\n).properties(\n    title='Cantidad de Minutos por Año y Género',\n    width=600,\n    height=400\n)\n\n# Mostrar el gráfico\nchart\n\n",
      "metadata": {}
    },
    {
      "id": "53fe799e-40aa-4762-9f6a-56e2ffbada13",
      "cell_type": "code",
      "source": "",
      "metadata": {
        "trusted": true
      },
      "outputs": [],
      "execution_count": null
    },
    {
      "id": "397650fb-510e-4db3-8d38-20af567e9893",
      "cell_type": "code",
      "source": "",
      "metadata": {
        "trusted": true
      },
      "outputs": [],
      "execution_count": null
    },
    {
      "id": "3cfa37c6-60cc-469f-b67e-c0dd7d1209a4",
      "cell_type": "code",
      "source": "",
      "metadata": {
        "trusted": true
      },
      "outputs": [],
      "execution_count": null
    },
    {
      "id": "d3339b44-a03a-4e69-9003-db90220d994b",
      "cell_type": "code",
      "source": "",
      "metadata": {
        "trusted": true
      },
      "outputs": [],
      "execution_count": null
    },
    {
      "id": "790eb0e7-7a46-4da3-b592-4457641c1baa",
      "cell_type": "code",
      "source": "",
      "metadata": {
        "trusted": true
      },
      "outputs": [],
      "execution_count": null
    },
    {
      "id": "b365c995-3e44-49a4-bc74-d8cea6375fbd",
      "cell_type": "code",
      "source": "",
      "metadata": {
        "trusted": true
      },
      "outputs": [],
      "execution_count": null
    }
  ]
}